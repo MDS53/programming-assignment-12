{
 "cells": [
  {
   "cell_type": "markdown",
   "id": "5eed20b1",
   "metadata": {},
   "source": [
    "### 1.\tWrite a Python program to Extract Unique values dictionary values?"
   ]
  },
  {
   "cell_type": "code",
   "execution_count": 2,
   "id": "5ded7ddc",
   "metadata": {},
   "outputs": [
    {
     "name": "stdout",
     "output_type": "stream",
     "text": [
      "keys values\n",
      "\n",
      "1 [1, 2, 3, 4]\n",
      "2 [2, 42, 11, 12, 12243, 23]\n",
      "3 [32, 33, 43, 12, 44, 21]\n",
      "4 [21, 442, 443, 221]\n"
     ]
    }
   ],
   "source": [
    "d={1:[1,2,3,4,4,3],2:[2,12,42,12243,23,12,11,2,23],3:[12,21,21,33,43,44,44,43,44,32],4:(221,221,442,443,442,442,21)}\n",
    "print(\"keys\",\"values\\n\")\n",
    "for i,j in d.items():\n",
    "    j=set(j)\n",
    "    j=list(j)\n",
    "    print(i,j)"
   ]
  },
  {
   "cell_type": "markdown",
   "id": "95601c6e",
   "metadata": {},
   "source": [
    "### 2.\tWrite a Python program to find the sum of all items in a dictionary?"
   ]
  },
  {
   "cell_type": "code",
   "execution_count": 37,
   "id": "5de9a456",
   "metadata": {},
   "outputs": [
    {
     "name": "stdout",
     "output_type": "stream",
     "text": [
      "sum of Keys and values in a given dictionary 6 2480\n"
     ]
    }
   ],
   "source": [
    "d4={1:[2,3,3,4,5,6],2:[32,43,45,66,76,56],3:[122,123,321,321,445,453,231,123]}\n",
    "s=0\n",
    "s1=0\n",
    "for i,j in d4.items():\n",
    "    s+=i\n",
    "    for k in j:\n",
    "        s1+=k\n",
    "print(\"sum of Keys and values in a given dictionary\",s,s1)"
   ]
  },
  {
   "cell_type": "markdown",
   "id": "b9442495",
   "metadata": {},
   "source": [
    "### 3.\tWrite a Python program to Merging two Dictionaries?"
   ]
  },
  {
   "cell_type": "code",
   "execution_count": 30,
   "id": "ffb586c1",
   "metadata": {},
   "outputs": [
    {
     "name": "stdout",
     "output_type": "stream",
     "text": [
      "{1: [1, 2, 3, 4, 4, 3], 2: [2, 12, 42, 12243, 23, 12, 11, 2, 23], 3: [12, 21, 21, 33, 43, 44, 44, 43, 44, 32], 4: (221, 221, 442, 443, 442, 442, 21), 8: [12, 21, 21, 3, 3, 4, 56, 63, 43], 44: [44, 43, 44, 32], 9: (221, 221, 442, 443, 442, 442, 21)}\n"
     ]
    }
   ],
   "source": [
    "d1={1:[1,2,3,4,4,3],2:[2,12,42,12243,23,12,11,2,23],3:[12,21,21,33,43,44,44,43,44,32],4:(221,221,442,443,442,442,21)}\n",
    "d2={8:[12,21,21,3,3,4,56,63,43],44:[44,43,44,32],9:(221,221,442,443,442,442,21)}\n",
    "d3=d1.copy()\n",
    "d3.update(d2)\n",
    "print(d3)"
   ]
  },
  {
   "cell_type": "markdown",
   "id": "7ca55b45",
   "metadata": {},
   "source": [
    "### 4.\tWrite a Python program to convert key-values list to flat dictionary"
   ]
  },
  {
   "cell_type": "code",
   "execution_count": 43,
   "id": "d8de4eb3",
   "metadata": {},
   "outputs": [
    {
     "name": "stdout",
     "output_type": "stream",
     "text": [
      "{1: [1, 2, 3, 4], 2: [12, 21, 32, 43, 53], 3: [142, 124, 234, 343, 346, 223]}\n"
     ]
    }
   ],
   "source": [
    "keys=[1,2,3]\n",
    "values=[[1,2,3,4],[12,21,32,43,53],[142,124,234,343,346,223]]\n",
    "di = dict(zip(keys,values))\n",
    "print(di)"
   ]
  },
  {
   "cell_type": "markdown",
   "id": "37763d4e",
   "metadata": {},
   "source": [
    "### 5.\tWrite a Python program to insertion at the beginning in OrderedDict?"
   ]
  },
  {
   "cell_type": "code",
   "execution_count": 26,
   "id": "5b59446a",
   "metadata": {},
   "outputs": [
    {
     "name": "stdout",
     "output_type": "stream",
     "text": [
      "OrderedDict([('Z', 12), ('a', 1), ('b', 2), ('c', 3), ('d', 4)])\n"
     ]
    }
   ],
   "source": [
    "from collections import OrderedDict\n",
    "o={}\n",
    "o['a'] = 1\n",
    "o['b'] = 2\n",
    "o['c'] = 3\n",
    "o['d'] = 4\n",
    "k={}\n",
    "key='Z'\n",
    "value=12\n",
    "k.update({key:value})\n",
    "for i,j in o.items():\n",
    "    k.update({i:j})\n",
    "k=OrderedDict(k)\n",
    "print(k)"
   ]
  },
  {
   "cell_type": "markdown",
   "id": "709d1b35",
   "metadata": {},
   "source": [
    "### 6.\tWrite a Python program to check order of character in string using OrderedDict()?\n"
   ]
  },
  {
   "cell_type": "code",
   "execution_count": 63,
   "id": "7829e509",
   "metadata": {},
   "outputs": [
    {
     "name": "stdout",
     "output_type": "stream",
     "text": [
      "The order of pattern is Incorrect\n"
     ]
    }
   ],
   "source": [
    "from collections import OrderedDict\n",
    "o={}\n",
    "#adding keys and values\n",
    "o[1]=\"Salman\"\n",
    "o[2]=\"pepsi\"\n",
    "o[3]=\"Cola\"\n",
    "o[4]=\"Mereenda\"\n",
    "q=\"po\"#order of character string\n",
    "l=0\n",
    "o=OrderedDict(o)\n",
    "for i,k in o.items():\n",
    "        if q in k:\n",
    "                l+=1\n",
    "if l>0:\n",
    "    print(\"The order of pattern is correct\")\n",
    "else:\n",
    "    print(\"The order of pattern is Incorrect\")"
   ]
  },
  {
   "cell_type": "markdown",
   "id": "0d267c87",
   "metadata": {},
   "source": [
    "### 7.\tWrite a Python program to sort Python Dictionaries by Key or Value?"
   ]
  },
  {
   "cell_type": "code",
   "execution_count": 74,
   "id": "cdc024d0",
   "metadata": {},
   "outputs": [
    {
     "data": {
      "text/plain": [
       "{1: 'Andy', 3: 'Csndy', 31: 'Mandid', 34: 'Panda', 43: 'Salman'}"
      ]
     },
     "execution_count": 74,
     "metadata": {},
     "output_type": "execute_result"
    }
   ],
   "source": [
    "keys=[1,43,31,3,34]\n",
    "values=[\"Salman\",\"Andy\",\"Mandid\",\"Csndy\",\"Panda\"]\n",
    "keys=sorted(keys)\n",
    "values=sorted(values)\n",
    "dict(zip(keys,values))"
   ]
  }
 ],
 "metadata": {
  "kernelspec": {
   "display_name": "Python 3",
   "language": "python",
   "name": "python3"
  },
  "language_info": {
   "codemirror_mode": {
    "name": "ipython",
    "version": 3
   },
   "file_extension": ".py",
   "mimetype": "text/x-python",
   "name": "python",
   "nbconvert_exporter": "python",
   "pygments_lexer": "ipython3",
   "version": "3.8.8"
  }
 },
 "nbformat": 4,
 "nbformat_minor": 5
}
